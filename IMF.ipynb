{
 "cells": [
  {
   "cell_type": "code",
   "execution_count": 3,
   "metadata": {},
   "outputs": [],
   "source": [
    "import numpy as np\n",
    "\n",
    "class IMF_salpeter():\n",
    "    def __init__(self, alpha=2.35, mmin=None, mmax=None):\n",
    "        default_mmin = 0.3\n",
    "        default_mmax = 120\n",
    "\n",
    "        self._mmin = self.default_mmin if mmin is None else mmin\n",
    "        self._mmax = self.default_mmax if mmax is None else mmax\n",
    "\n",
    "        self.alpha = alpha\n",
    "        self.normfactor = 1\n",
    "\n",
    "        self.slope = -alpha\n",
    "        assert (self._mmin < self._mmax)\n",
    "        assert (self._mmin > 0)\n",
    "        assert (self._mmin != -1)\n",
    "\n",
    "    def pdf(self, x):\n",
    "        return x**self.slope * (self.slope + 1) / (\n",
    "            self._mmax**(self.slope + 1) -\n",
    "            self._mmin **(self.slope + 1)) * (x >= self._mmin ) * (x <= self._mmax)\n",
    "    \n",
    "    def cdf(self, x):\n",
    "        return (np.clip(x, self._mmin , self._mmax)**(self.slope + 1) -\n",
    "                (self._mmin**(self.slope + 1))) / (self._mmax**(self.slope + 1) -\n",
    "                                                self._mmin**(self.slope + 1))\n",
    "\n",
    "    def __call__(self, m, integral_form=False):\n",
    "        if not integral_form:\n",
    "            return self.pdf(m) * self.normfactor\n",
    "        else:\n",
    "            return self.cdf(m) * self.normfactor\n"
   ]
  },
  {
   "cell_type": "code",
   "execution_count": null,
   "metadata": {},
   "outputs": [],
   "source": []
  }
 ],
 "metadata": {
  "kernelspec": {
   "display_name": "cigale",
   "language": "python",
   "name": "python3"
  },
  "language_info": {
   "codemirror_mode": {
    "name": "ipython",
    "version": 3
   },
   "file_extension": ".py",
   "mimetype": "text/x-python",
   "name": "python",
   "nbconvert_exporter": "python",
   "pygments_lexer": "ipython3",
   "version": "3.11.5"
  },
  "orig_nbformat": 4
 },
 "nbformat": 4,
 "nbformat_minor": 2
}
