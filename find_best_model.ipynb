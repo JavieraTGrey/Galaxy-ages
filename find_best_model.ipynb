{
  "nbformat": 4,
  "nbformat_minor": 0,
  "metadata": {
    "colab": {
      "provenance": [],
      "gpuType": "T4",
      "authorship_tag": "ABX9TyPBxxELiNkAgYIflGYvA3mh",
      "include_colab_link": true
    },
    "kernelspec": {
      "name": "python3",
      "display_name": "Python 3"
    },
    "language_info": {
      "name": "python"
    },
    "accelerator": "GPU"
  },
  "cells": [
    {
      "cell_type": "markdown",
      "metadata": {
        "id": "view-in-github",
        "colab_type": "text"
      },
      "source": [
        "<a href=\"https://colab.research.google.com/github/JavieraTGrey/Galaxy-ages/blob/main/find_best_model.ipynb\" target=\"_parent\"><img src=\"https://colab.research.google.com/assets/colab-badge.svg\" alt=\"Open In Colab\"/></a>"
      ]
    },
    {
      "cell_type": "markdown",
      "source": [
        "Ejecutar en colab: https://colab.research.google.com/drive/19hyUoi_ZTp1HYau9g6wqQpUmHiVA7q_t?usp=sharing"
      ],
      "metadata": {
        "id": "m0Y2qFZg9unf"
      }
    },
    {
      "cell_type": "code",
      "execution_count": 3,
      "metadata": {
        "id": "sNGdG0_SAGNj"
      },
      "outputs": [],
      "source": [
        "import os\n",
        "import matplotlib.pyplot as plt\n",
        "import numpy as np\n",
        "from tensorflow import keras\n",
        "from ray import train, tune\n",
        "from tensorflow.keras.models import Sequential\n",
        "from tensorflow.keras.layers import Dense\n",
        "from tensorflow.keras.optimizers import Adam\n",
        "from tensorflow.keras.losses import MeanSquaredError\n",
        "from sklearn.model_selection import train_test_split\n",
        "import ray\n",
        "from ray import tune\n",
        "from ray.tune.schedulers import ASHAScheduler\n",
        "from ray.tune.integration.keras import TuneReportCallback\n",
        "from ray.air.integrations.keras import ReportCheckpointCallback"
      ]
    },
    {
      "cell_type": "code",
      "source": [
        "%load_ext tensorboard"
      ],
      "metadata": {
        "id": "ZazjrUzHC-sN"
      },
      "execution_count": 4,
      "outputs": []
    },
    {
      "cell_type": "code",
      "source": [
        "def plot_confusion(true_ages, pred_ages):\n",
        "  '''\n",
        "  Plot analogous of confusion matrix for a regression problem\n",
        "  '''\n",
        "  plt.scatter(true_ages, pred_ages)\n",
        "  plt.xlabel('True Age')\n",
        "  plt.ylabel('Predicted Age (Gyr)')\n",
        "  plt.title('True vs Predicted Age (Gyr)')\n",
        "  plt.show()"
      ],
      "metadata": {
        "id": "-Wwaw_RYDpcO"
      },
      "execution_count": 5,
      "outputs": []
    },
    {
      "cell_type": "code",
      "source": [
        " def build_model(hp):\n",
        "  '''\n",
        "  Build NN model based on hyperparameters\n",
        "  '''\n",
        "  model = Sequential()\n",
        "  model.add(Dense(units=hp['units_1'], activation=hp['activation_1'], input_shape=(X_train.shape[1],))) #TODO: ver input shape. ¿más de un input?\n",
        "  model.add(Dense(units=hp['units_2'], activation=hp['activation_2']))\n",
        "  model.add(Dense(1))  # Output layer\n",
        "  model.compile(optimizer=Adam(hp['lr']), loss=MeanSquaredError())\n",
        "  return model"
      ],
      "metadata": {
        "id": "FnqRa7iIWw6x"
      },
      "execution_count": 23,
      "outputs": []
    },
    {
      "cell_type": "code",
      "source": [
        "def train_model(hp):\n",
        "  '''\n",
        "  Train NN model using hyperparameters\n",
        "  '''\n",
        "  model = build_model(hp)\n",
        "\n",
        "  model.fit(X_train, y_train, validation_data=(X_val, y_val), epochs=10, verbose=0,\n",
        "            callbacks=[TuneReportCallback({\"val_loss\": \"val_loss\"})])"
      ],
      "metadata": {
        "id": "aBrBvYDoZXFp"
      },
      "execution_count": 24,
      "outputs": []
    },
    {
      "cell_type": "code",
      "source": [
        "# Define search space for hyperparameters\n",
        "#TODO: editar (esto es solo la arquitectura básica)\n",
        "search_space = {\n",
        "    'units_1': tune.choice([64, 128, 256, 512]),\n",
        "    'units_2': tune.choice([32, 64, 128, 256]),\n",
        "    'activation_1': tune.choice(['relu', 'tanh']),\n",
        "    'activation_2': tune.choice(['relu', 'tanh']),\n",
        "    'lr': tune.loguniform(1e-4, 1e-2)}\n",
        ""
      ],
      "metadata": {
        "id": "TwhTYkO3a60w"
      },
      "execution_count": 26,
      "outputs": []
    },
    {
      "cell_type": "code",
      "source": [
        "asha_scheduler = ASHAScheduler(\n",
        "    metric=\"val_loss\",\n",
        "    mode=\"min\",\n",
        "    max_t=400,\n",
        "    grace_period=20,\n",
        "    reduction_factor=2\n",
        ")"
      ],
      "metadata": {
        "id": "dGfczCkgbf7e"
      },
      "execution_count": null,
      "outputs": []
    },
    {
      "cell_type": "code",
      "source": [
        "tuner = tune.Tuner(\n",
        "        train_model,\n",
        "        param_space=search_space,\n",
        "        tune_config=tune.TuneConfig(\n",
        "            num_samples=20,\n",
        "            scheduler=asha_scheduler,\n",
        "        ),\n",
        "    )\n",
        "\n",
        "results = tuner.fit()"
      ],
      "metadata": {
        "id": "nfgKFudu6Fa_"
      },
      "execution_count": null,
      "outputs": []
    }
  ]
}